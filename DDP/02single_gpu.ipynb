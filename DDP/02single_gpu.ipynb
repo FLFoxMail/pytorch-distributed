{
 "cells": [
  {
   "cell_type": "markdown",
   "metadata": {},
   "source": [
    "## single_gpu"
   ]
  },
  {
   "cell_type": "code",
   "execution_count": 1,
   "metadata": {},
   "outputs": [],
   "source": [
    "import torch\n",
    "# 导入 Dataloader\n",
    "from torch.utils.data import DataLoader, Dataset\n",
    "# 导入 F 函数\n",
    "import torch.nn.functional as F\n",
    "from datautils import MyTrainDataset"
   ]
  },
  {
   "cell_type": "code",
   "execution_count": 3,
   "metadata": {},
   "outputs": [],
   "source": [
    "\n",
    "class Trainer:\n",
    "    def __init__(\n",
    "        self,\n",
    "        model: torch.nn.Module,\n",
    "        train_data: DataLoader,\n",
    "        optimizer: torch.optim.Optimizer,\n",
    "        gpu_id: int,\n",
    "        save_every: int, \n",
    "    ) -> None:\n",
    "        self.gpu_id = gpu_id\n",
    "        self.model = model.to(self.gpu_id)\n",
    "        self.train_data = train_data\n",
    "        self.optimizer = optimizer\n",
    "        self.save_every = save_every\n",
    "        \n",
    "    def _run_batch(self, souce, target):\n",
    "        self.optimizer.zero_grad()\n",
    "        output = self.model(souce)\n",
    "        loss = F.cross_entropy(output, target)\n",
    "        loss.backward()\n",
    "        self.optimizer.step()\n",
    "        \n",
    "    def _run_epoch(self, epoch):\n",
    "        b_sz = len(next(iter(self.train_data))[0])\n",
    "        print(f\"[GPU{self.gpu_id}] Epoch {epoch} | Batchsize: {b_sz} | Steps: {len(self.train_data)}\")\n",
    "        for source, target in self.train_data:\n",
    "            source = source.to(self.gpu_id)\n",
    "            target = target.to(self.gpu_id)\n",
    "            self._run_batch(source, target)\n",
    "            \n",
    "    def _save_checkpoint(self, epoch):\n",
    "        ckp = self.model.state_dict()\n",
    "        PATH = \"checkpoint.pt\"\n",
    "        torch.save(ckp, PATH)\n",
    "        print(f\"Epoch {epoch} | Training checkpoint saved at {PATH}\")\n",
    "        \n",
    "    def train(self, epochs: int):\n",
    "        for epoch in range(epochs):\n",
    "            self._run_epoch(epoch)\n",
    "            if epoch % self.save_every == 0:\n",
    "                self._save_checkpoint(epoch)"
   ]
  },
  {
   "cell_type": "code",
   "execution_count": 2,
   "metadata": {},
   "outputs": [],
   "source": [
    "def load_train_obj():\n",
    "    train_set = MyTrainDataset(2048)\n",
    "    print(\"数据加载完成\")\n",
    "    model = torch.nn.Linear(20, 1)\n",
    "    optimizer = torch.optim.SGD(model.parameters(), lr=1e-3)\n",
    "    print(\"优化器加载完成\")\n",
    "    return train_set, model, optimizer\n",
    "\n",
    "def prepare_dataLoader(dataset: Dataset, batch_size: int):\n",
    "    # pin_memory : 是否使用锁页内存，把数据拷贝到 GPU 上会快很多,锁页内存是一种内存，CPU 和 GPU 都可以直接访问，不需要进行数据拷贝\n",
    "    return DataLoader(dataset, batch_size=batch_size, pin_memory=True, shuffle=True )\n",
    "\n",
    "def main(device, total_epochs, save_every, batch_size):\n",
    "    data_set, model, optimizer = load_train_obj()\n",
    "    train_data = prepare_dataLoader(data_set, batch_size)\n",
    "    trainer = Trainer(model, train_data, optimizer, device, save_every)\n",
    "    trainer.train(total_epochs)"
   ]
  },
  {
   "cell_type": "code",
   "execution_count": 5,
   "metadata": {},
   "outputs": [],
   "source": [
    "# 配置参数并启动\n",
    "total_epochs = 10\n",
    "save_every = 2\n",
    "batch_size = 1\n",
    "# main(device=0, total_epochs=total_epochs, save_every=save_every, batch_size=batch_size)"
   ]
  }
 ],
 "metadata": {
  "kernelspec": {
   "display_name": "base",
   "language": "python",
   "name": "python3"
  },
  "language_info": {
   "codemirror_mode": {
    "name": "ipython",
    "version": 3
   },
   "file_extension": ".py",
   "mimetype": "text/x-python",
   "name": "python",
   "nbconvert_exporter": "python",
   "pygments_lexer": "ipython3",
   "version": "3.8.10"
  }
 },
 "nbformat": 4,
 "nbformat_minor": 2
}
