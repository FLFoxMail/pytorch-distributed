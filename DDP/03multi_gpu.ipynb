{
 "cells": [
  {
   "cell_type": "markdown",
   "metadata": {},
   "source": [
    "## multi_gpu"
   ]
  },
  {
   "cell_type": "code",
   "execution_count": 2,
   "metadata": {},
   "outputs": [],
   "source": [
    "import torch\n",
    "# 导入 Dataloader\n",
    "from torch.utils.data import DataLoader, Dataset\n",
    "# 导入 F 函数\n",
    "import torch.nn.functional as F\n",
    "from datautils import MyTrainDataset\n",
    "# 导入依赖 多线程\n",
    "import torch.multiprocessing as mp\n",
    "# 分布式采样器\n",
    "from torch.utils.data.distributed import DistributedSampler\n",
    "# 导入 DDP\n",
    "from torch.nn.parallel import DistributedDataParallel as DDP\n",
    "# 导入组处理函数\n",
    "from torch.distributed import init_process_group, destroy_process_group\n",
    "import os\n",
    "\n",
    "# 分布式训练设置 rank 是分配给进程的唯一标识，world_size 是参与训练的进程总数\n",
    "def ddp_setup(rank, world_size):\n",
    "    # 设置环境变量, Master_addr 是主节点的 IP 地址，Master_port 是主节点的端口号\n",
    "    os.environ['MASTER_ADDR'] = 'localhost'\n",
    "    # 122355 \n",
    "    os.environ['MASTER_PORT'] = '12355'\n",
    "    torch.cuda.set_device(rank)\n",
    "    print(\"初始化进程环境\")\n",
    "    # 初始化 backend 指的是通信后端，nccl 是 NVIDIA Collective Communications Library，用于 GPU 间通信\n",
    "    init_process_group(backend='nccl', rank=rank, world_size=world_size)"
   ]
  },
  {
   "cell_type": "markdown",
   "metadata": {},
   "source": [
    "- DDP 的工作方式在于启动多个进程，通过DDP 包装的模型，每个进程都拥有模型的一个副本，每个进程都负责一部分数据，通过进程间通信，实现模型参数的同步。\n",
    "保存模型时，只需要从一个进程保存即可，因为所有进程的模型参数都是一样的。"
   ]
  },
  {
   "cell_type": "code",
   "execution_count": 3,
   "metadata": {},
   "outputs": [],
   "source": [
    "# 重新定义 Trainner 改动点在于，包装模型\n",
    "\n",
    "class Trainer:\n",
    "    def __init__(\n",
    "        self,\n",
    "        model: torch.nn.Module,\n",
    "        train_data: DataLoader,\n",
    "        optimizer: torch.optim.Optimizer,\n",
    "        gpu_id: int,\n",
    "        save_every: int, \n",
    "    ) -> None:\n",
    "        self.gpu_id = gpu_id\n",
    "        self.model = model.to(self.gpu_id)\n",
    "        self.train_data = train_data\n",
    "        self.optimizer = optimizer\n",
    "        self.save_every = save_every\n",
    "        # 改动点 1 device_ids 参数是一个列表，用于指定模型存在的 GPU 设备\n",
    "        self.model = DDP(self.model, device_ids=[self.gpu_id])\n",
    "        \n",
    "    def _run_batch(self, souce, target):\n",
    "        self.optimizer.zero_grad()\n",
    "        output = self.model(souce)\n",
    "        loss = F.cross_entropy(output, target)\n",
    "        loss.backward()\n",
    "        self.optimizer.step()\n",
    "        \n",
    "    def _run_epoch(self, epoch):\n",
    "        b_sz = len(next(iter(self.train_data))[0])\n",
    "        print(f\"[GPU{self.gpu_id}] Epoch {epoch} | Batchsize: {b_sz} | Steps: {len(self.train_data)}\")\n",
    "        for source, target in self.train_data:\n",
    "            source = source.to(self.gpu_id)\n",
    "            target = target.to(self.gpu_id)\n",
    "            self._run_batch(source, target)\n",
    "            \n",
    "    def _save_checkpoint(self, epoch):\n",
    "        # 改动点 2 DDP 包装的 model 需要使用 module.state_dict() 获取模型参数\n",
    "        ckp = self.model.module.state_dict()\n",
    "        PATH = \"checkpoint.pt\"\n",
    "        torch.save(ckp, PATH)\n",
    "        print(f\"Epoch {epoch} | Training checkpoint saved at {PATH}\")\n",
    "        \n",
    "    def train(self, epochs: int):\n",
    "        for epoch in range(epochs):\n",
    "            self._run_epoch(epoch)\n",
    "            # 改动点 3 DDP 保存模型时无需多少进程保存，只需要一个进程保存即可\n",
    "            if self.gpu_id == 0 and epoch % self.save_every == 0:\n",
    "                self._save_checkpoint(epoch)"
   ]
  },
  {
   "cell_type": "code",
   "execution_count": 4,
   "metadata": {},
   "outputs": [],
   "source": [
    "def load_train_obj():\n",
    "    train_set = MyTrainDataset(2048)\n",
    "    print(\"数据加载完成\")\n",
    "    model = torch.nn.Linear(20, 1)\n",
    "    optimizer = torch.optim.SGD(model.parameters(), lr=1e-3)\n",
    "    print(\"优化器加载完成\")\n",
    "    return train_set, model, optimizer\n",
    "\n",
    "def main(device, total_epochs, save_every, batch_size):\n",
    "    data_set, model, optimizer = load_train_obj()\n",
    "    train_data = prepare_dataLoader(data_set, batch_size)\n",
    "    trainer = Trainer(model, train_data, optimizer, device, save_every)\n",
    "    trainer.train(total_epochs)\n",
    "\n",
    "# 改动点4 修改 dataSampler，使用分布式采样器，用来确保在分布式环境，数据不会被重复采样\n",
    "# 把 shuffle 参数设置为 False 的原因是，分布式采样器会自动进行 shuffle\n",
    "def prepare_dataLoader(dataset, batch_size):    \n",
    "    return DataLoader(dataset, batch_size=batch_size, pin_memory=True, shuffle=False, sampler=DistributedSampler(dataset))"
   ]
  },
  {
   "cell_type": "code",
   "execution_count": 5,
   "metadata": {},
   "outputs": [],
   "source": [
    "def main(rank: int, world_size: int, total_epochs: int, save_every: int, batch_size: int):\n",
    "    # 改动点 5 在启动训练之前，需要先调用 ddp_setup 函数，设置多进程环境\n",
    "    ddp_setup(rank, world_size)\n",
    "    print(\"开始加载数据模型和优化器\")\n",
    "    data_set, model, optimizer = load_train_obj()\n",
    "    train_data = prepare_dataLoader(data_set, batch_size)\n",
    "    trainer = Trainer(model, train_data, optimizer, rank, save_every)\n",
    "    trainer.train(total_epochs)"
   ]
  },
  {
   "cell_type": "code",
   "execution_count": null,
   "metadata": {},
   "outputs": [
    {
     "name": "stdout",
     "output_type": "stream",
     "text": [
      "Training on 2 GPUs\n",
      "初始化进程环境\n"
     ]
    }
   ],
   "source": [
    "# 配置参数并启动\n",
    "total_epochs = 1\n",
    "save_every = 2\n",
    "batch_size = 1\n",
    "rank = 0\n",
    "world_size = torch.cuda.device_count()\n",
    "print(f\"Training on {world_size} GPUs\")\n",
    "main(rank, world_size, total_epochs, save_every, batch_size)"
   ]
  },
  {
   "cell_type": "code",
   "execution_count": null,
   "metadata": {},
   "outputs": [],
   "source": []
  }
 ],
 "metadata": {
  "kernelspec": {
   "display_name": "base",
   "language": "python",
   "name": "python3"
  },
  "language_info": {
   "codemirror_mode": {
    "name": "ipython",
    "version": 3
   },
   "file_extension": ".py",
   "mimetype": "text/x-python",
   "name": "python",
   "nbconvert_exporter": "python",
   "pygments_lexer": "ipython3",
   "version": "3.8.10"
  }
 },
 "nbformat": 4,
 "nbformat_minor": 2
}
